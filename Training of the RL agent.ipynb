{
 "cells": [
  {
   "cell_type": "code",
   "execution_count": 1,
   "metadata": {},
   "outputs": [],
   "source": [
    "from web3 import Web3\n",
    "import json"
   ]
  },
  {
   "cell_type": "code",
   "execution_count": 2,
   "metadata": {},
   "outputs": [],
   "source": [
    "infura_url = \"https://mainnet.infura.io/v3/5ecf70ef056743f7b9b1fa7dc36d302f\"\n",
    "web3 = Web3(Web3.HTTPProvider(infura_url))"
   ]
  },
  {
   "cell_type": "code",
   "execution_count": 3,
   "metadata": {},
   "outputs": [
    {
     "name": "stdout",
     "output_type": "stream",
     "text": [
      "True\n",
      "14880396\n"
     ]
    },
    {
     "ename": "InvalidAddress",
     "evalue": "('Web3.py only accepts checksum addresses. The software that gave you this non-checksum address should be considered unsafe, please file it as a bug on their platform. Try using an ENS name instead. Or, if you must accept lower safety, use Web3.toChecksumAddress(lower_case_address).', '0xfb8814d005c5f32874391e888da6eb2fe7a27902')",
     "output_type": "error",
     "traceback": [
      "\u001b[1;31m---------------------------------------------------------------------------\u001b[0m",
      "\u001b[1;31mInvalidAddress\u001b[0m                            Traceback (most recent call last)",
      "Input \u001b[1;32mIn [3]\u001b[0m, in \u001b[0;36m<cell line: 3>\u001b[1;34m()\u001b[0m\n\u001b[0;32m      1\u001b[0m \u001b[38;5;28mprint\u001b[39m(web3\u001b[38;5;241m.\u001b[39misConnected())\n\u001b[0;32m      2\u001b[0m \u001b[38;5;28mprint\u001b[39m(web3\u001b[38;5;241m.\u001b[39meth\u001b[38;5;241m.\u001b[39mblockNumber)\n\u001b[1;32m----> 3\u001b[0m balance \u001b[38;5;241m=\u001b[39m \u001b[43mweb3\u001b[49m\u001b[38;5;241;43m.\u001b[39;49m\u001b[43meth\u001b[49m\u001b[38;5;241;43m.\u001b[39;49m\u001b[43mgetBalance\u001b[49m\u001b[43m(\u001b[49m\u001b[38;5;124;43m\"\u001b[39;49m\u001b[38;5;124;43m0xfb8814d005c5f32874391e888da6eb2fe7a27902\u001b[39;49m\u001b[38;5;124;43m\"\u001b[39;49m\u001b[43m)\u001b[49m\n\u001b[0;32m      4\u001b[0m \u001b[38;5;28mprint\u001b[39m(web3\u001b[38;5;241m.\u001b[39mfromWei(balance, \u001b[38;5;124m\"\u001b[39m\u001b[38;5;124mether\u001b[39m\u001b[38;5;124m\"\u001b[39m))\n",
      "File \u001b[1;32m~\\Anaconda3\\envs\\web3\\lib\\site-packages\\web3\\module.py:53\u001b[0m, in \u001b[0;36mretrieve_blocking_method_call_fn.<locals>.caller\u001b[1;34m(*args, **kwargs)\u001b[0m\n\u001b[0;32m     51\u001b[0m \u001b[38;5;28;01mdef\u001b[39;00m \u001b[38;5;21mcaller\u001b[39m(\u001b[38;5;241m*\u001b[39margs: Any, \u001b[38;5;241m*\u001b[39m\u001b[38;5;241m*\u001b[39mkwargs: Any) \u001b[38;5;241m-\u001b[39m\u001b[38;5;241m>\u001b[39m Union[TReturn, LogFilter]:\n\u001b[0;32m     52\u001b[0m     \u001b[38;5;28;01mtry\u001b[39;00m:\n\u001b[1;32m---> 53\u001b[0m         (method_str, params), response_formatters \u001b[38;5;241m=\u001b[39m \u001b[43mmethod\u001b[49m\u001b[38;5;241;43m.\u001b[39;49m\u001b[43mprocess_params\u001b[49m\u001b[43m(\u001b[49m\u001b[43mmodule\u001b[49m\u001b[43m,\u001b[49m\u001b[43m \u001b[49m\u001b[38;5;241;43m*\u001b[39;49m\u001b[43margs\u001b[49m\u001b[43m,\u001b[49m\u001b[43m \u001b[49m\u001b[38;5;241;43m*\u001b[39;49m\u001b[38;5;241;43m*\u001b[39;49m\u001b[43mkwargs\u001b[49m\u001b[43m)\u001b[49m  \u001b[38;5;66;03m# noqa: E501\u001b[39;00m\n\u001b[0;32m     54\u001b[0m     \u001b[38;5;28;01mexcept\u001b[39;00m _UseExistingFilter \u001b[38;5;28;01mas\u001b[39;00m err:\n\u001b[0;32m     55\u001b[0m         \u001b[38;5;28;01mreturn\u001b[39;00m LogFilter(eth_module\u001b[38;5;241m=\u001b[39mmodule, filter_id\u001b[38;5;241m=\u001b[39merr\u001b[38;5;241m.\u001b[39mfilter_id)\n",
      "File \u001b[1;32m~\\Anaconda3\\envs\\web3\\lib\\site-packages\\web3\\method.py:202\u001b[0m, in \u001b[0;36mMethod.process_params\u001b[1;34m(self, module, *args, **kwargs)\u001b[0m\n\u001b[0;32m    196\u001b[0m method \u001b[38;5;241m=\u001b[39m \u001b[38;5;28mself\u001b[39m\u001b[38;5;241m.\u001b[39mmethod_selector_fn()\n\u001b[0;32m    197\u001b[0m response_formatters \u001b[38;5;241m=\u001b[39m (\u001b[38;5;28mself\u001b[39m\u001b[38;5;241m.\u001b[39mresult_formatters(method, module),\n\u001b[0;32m    198\u001b[0m                        \u001b[38;5;28mself\u001b[39m\u001b[38;5;241m.\u001b[39merror_formatters(method),\n\u001b[0;32m    199\u001b[0m                        \u001b[38;5;28mself\u001b[39m\u001b[38;5;241m.\u001b[39mnull_result_formatters(method),)\n\u001b[0;32m    201\u001b[0m request \u001b[38;5;241m=\u001b[39m (method,\n\u001b[1;32m--> 202\u001b[0m            \u001b[43m_apply_request_formatters\u001b[49m\u001b[43m(\u001b[49m\u001b[43mparams\u001b[49m\u001b[43m,\u001b[49m\u001b[43m \u001b[49m\u001b[38;5;28;43mself\u001b[39;49m\u001b[38;5;241;43m.\u001b[39;49m\u001b[43mrequest_formatters\u001b[49m\u001b[43m(\u001b[49m\u001b[43mmethod\u001b[49m\u001b[43m)\u001b[49m\u001b[43m)\u001b[49m)\n\u001b[0;32m    204\u001b[0m \u001b[38;5;28;01mreturn\u001b[39;00m request, response_formatters\n",
      "File \u001b[1;32m~\\Anaconda3\\envs\\web3\\lib\\site-packages\\eth_utils\\functional.py:45\u001b[0m, in \u001b[0;36mapply_to_return_value.<locals>.outer.<locals>.inner\u001b[1;34m(*args, **kwargs)\u001b[0m\n\u001b[0;32m     43\u001b[0m \u001b[38;5;129m@functools\u001b[39m\u001b[38;5;241m.\u001b[39mwraps(fn)\n\u001b[0;32m     44\u001b[0m \u001b[38;5;28;01mdef\u001b[39;00m \u001b[38;5;21minner\u001b[39m(\u001b[38;5;241m*\u001b[39margs, \u001b[38;5;241m*\u001b[39m\u001b[38;5;241m*\u001b[39mkwargs) \u001b[38;5;241m-\u001b[39m\u001b[38;5;241m>\u001b[39m T:  \u001b[38;5;66;03m# type: ignore\u001b[39;00m\n\u001b[1;32m---> 45\u001b[0m     \u001b[38;5;28;01mreturn\u001b[39;00m callback(\u001b[43mfn\u001b[49m\u001b[43m(\u001b[49m\u001b[38;5;241;43m*\u001b[39;49m\u001b[43margs\u001b[49m\u001b[43m,\u001b[49m\u001b[43m \u001b[49m\u001b[38;5;241;43m*\u001b[39;49m\u001b[38;5;241;43m*\u001b[39;49m\u001b[43mkwargs\u001b[49m\u001b[43m)\u001b[49m)\n",
      "File \u001b[1;32m~\\Anaconda3\\envs\\web3\\lib\\site-packages\\web3\\method.py:52\u001b[0m, in \u001b[0;36m_apply_request_formatters\u001b[1;34m(params, request_formatters)\u001b[0m\n\u001b[0;32m     47\u001b[0m \u001b[38;5;129m@to_tuple\u001b[39m\n\u001b[0;32m     48\u001b[0m \u001b[38;5;28;01mdef\u001b[39;00m \u001b[38;5;21m_apply_request_formatters\u001b[39m(\n\u001b[0;32m     49\u001b[0m     params: Any, request_formatters: Dict[RPCEndpoint, Callable[\u001b[38;5;241m.\u001b[39m\u001b[38;5;241m.\u001b[39m\u001b[38;5;241m.\u001b[39m, TReturn]]\n\u001b[0;32m     50\u001b[0m ) \u001b[38;5;241m-\u001b[39m\u001b[38;5;241m>\u001b[39m Tuple[Any, \u001b[38;5;241m.\u001b[39m\u001b[38;5;241m.\u001b[39m\u001b[38;5;241m.\u001b[39m]:\n\u001b[0;32m     51\u001b[0m     \u001b[38;5;28;01mif\u001b[39;00m request_formatters:\n\u001b[1;32m---> 52\u001b[0m         formatted_params \u001b[38;5;241m=\u001b[39m \u001b[43mpipe\u001b[49m\u001b[43m(\u001b[49m\u001b[43mparams\u001b[49m\u001b[43m,\u001b[49m\u001b[43m \u001b[49m\u001b[43mrequest_formatters\u001b[49m\u001b[43m)\u001b[49m\n\u001b[0;32m     53\u001b[0m         \u001b[38;5;28;01mreturn\u001b[39;00m formatted_params\n\u001b[0;32m     54\u001b[0m     \u001b[38;5;28;01mreturn\u001b[39;00m params\n",
      "File \u001b[1;32m~\\Anaconda3\\envs\\web3\\lib\\site-packages\\cytoolz\\functoolz.pyx:667\u001b[0m, in \u001b[0;36mcytoolz.functoolz.pipe\u001b[1;34m()\u001b[0m\n",
      "File \u001b[1;32m~\\Anaconda3\\envs\\web3\\lib\\site-packages\\cytoolz\\functoolz.pyx:642\u001b[0m, in \u001b[0;36mcytoolz.functoolz.c_pipe\u001b[1;34m()\u001b[0m\n",
      "File \u001b[1;32m~\\Anaconda3\\envs\\web3\\lib\\site-packages\\cytoolz\\functoolz.pyx:505\u001b[0m, in \u001b[0;36mcytoolz.functoolz.Compose.__call__\u001b[1;34m()\u001b[0m\n",
      "File \u001b[1;32m~\\Anaconda3\\envs\\web3\\lib\\site-packages\\cytoolz\\functoolz.pyx:250\u001b[0m, in \u001b[0;36mcytoolz.functoolz.curry.__call__\u001b[1;34m()\u001b[0m\n",
      "File \u001b[1;32m~\\Anaconda3\\envs\\web3\\lib\\site-packages\\web3\\_utils\\abi.py:811\u001b[0m, in \u001b[0;36mmap_abi_data\u001b[1;34m(normalizers, types, data)\u001b[0m\n\u001b[0;32m    783\u001b[0m \u001b[38;5;124;03m\"\"\"\u001b[39;00m\n\u001b[0;32m    784\u001b[0m \u001b[38;5;124;03mThis function will apply normalizers to your data, in the\u001b[39;00m\n\u001b[0;32m    785\u001b[0m \u001b[38;5;124;03mcontext of the relevant types. Each normalizer is in the format:\u001b[39;00m\n\u001b[1;32m   (...)\u001b[0m\n\u001b[0;32m    803\u001b[0m \u001b[38;5;124;03m3. Stripping the types back out of the tree\u001b[39;00m\n\u001b[0;32m    804\u001b[0m \u001b[38;5;124;03m\"\"\"\u001b[39;00m\n\u001b[0;32m    805\u001b[0m pipeline \u001b[38;5;241m=\u001b[39m itertools\u001b[38;5;241m.\u001b[39mchain(\n\u001b[0;32m    806\u001b[0m     [abi_data_tree(types)],\n\u001b[0;32m    807\u001b[0m     \u001b[38;5;28mmap\u001b[39m(data_tree_map, normalizers),\n\u001b[0;32m    808\u001b[0m     [partial(recursive_map, strip_abi_type)],\n\u001b[0;32m    809\u001b[0m )\n\u001b[1;32m--> 811\u001b[0m \u001b[38;5;28;01mreturn\u001b[39;00m \u001b[43mpipe\u001b[49m\u001b[43m(\u001b[49m\u001b[43mdata\u001b[49m\u001b[43m,\u001b[49m\u001b[43m \u001b[49m\u001b[38;5;241;43m*\u001b[39;49m\u001b[43mpipeline\u001b[49m\u001b[43m)\u001b[49m\n",
      "File \u001b[1;32m~\\Anaconda3\\envs\\web3\\lib\\site-packages\\cytoolz\\functoolz.pyx:667\u001b[0m, in \u001b[0;36mcytoolz.functoolz.pipe\u001b[1;34m()\u001b[0m\n",
      "File \u001b[1;32m~\\Anaconda3\\envs\\web3\\lib\\site-packages\\cytoolz\\functoolz.pyx:642\u001b[0m, in \u001b[0;36mcytoolz.functoolz.c_pipe\u001b[1;34m()\u001b[0m\n",
      "File \u001b[1;32m~\\Anaconda3\\envs\\web3\\lib\\site-packages\\cytoolz\\functoolz.pyx:250\u001b[0m, in \u001b[0;36mcytoolz.functoolz.curry.__call__\u001b[1;34m()\u001b[0m\n",
      "File \u001b[1;32m~\\Anaconda3\\envs\\web3\\lib\\site-packages\\web3\\_utils\\abi.py:845\u001b[0m, in \u001b[0;36mdata_tree_map\u001b[1;34m(func, data_tree)\u001b[0m\n\u001b[0;32m    843\u001b[0m     \u001b[38;5;28;01melse\u001b[39;00m:\n\u001b[0;32m    844\u001b[0m         \u001b[38;5;28;01mreturn\u001b[39;00m elements\n\u001b[1;32m--> 845\u001b[0m \u001b[38;5;28;01mreturn\u001b[39;00m \u001b[43mrecursive_map\u001b[49m\u001b[43m(\u001b[49m\u001b[43mmap_to_typed_data\u001b[49m\u001b[43m,\u001b[49m\u001b[43m \u001b[49m\u001b[43mdata_tree\u001b[49m\u001b[43m)\u001b[49m\n",
      "File \u001b[1;32m~\\Anaconda3\\envs\\web3\\lib\\site-packages\\web3\\_utils\\decorators.py:30\u001b[0m, in \u001b[0;36mreject_recursive_repeats.<locals>.wrapped\u001b[1;34m(*args)\u001b[0m\n\u001b[0;32m     28\u001b[0m to_wrap\u001b[38;5;241m.\u001b[39m__already_called[thread_local_args] \u001b[38;5;241m=\u001b[39m \u001b[38;5;28;01mTrue\u001b[39;00m  \u001b[38;5;66;03m# type: ignore\u001b[39;00m\n\u001b[0;32m     29\u001b[0m \u001b[38;5;28;01mtry\u001b[39;00m:\n\u001b[1;32m---> 30\u001b[0m     wrapped_val \u001b[38;5;241m=\u001b[39m \u001b[43mto_wrap\u001b[49m\u001b[43m(\u001b[49m\u001b[38;5;241;43m*\u001b[39;49m\u001b[43margs\u001b[49m\u001b[43m)\u001b[49m\n\u001b[0;32m     31\u001b[0m \u001b[38;5;28;01mfinally\u001b[39;00m:\n\u001b[0;32m     32\u001b[0m     \u001b[38;5;28;01mdel\u001b[39;00m to_wrap\u001b[38;5;241m.\u001b[39m__already_called[thread_local_args]  \u001b[38;5;66;03m# type: ignore\u001b[39;00m\n",
      "File \u001b[1;32m~\\Anaconda3\\envs\\web3\\lib\\site-packages\\web3\\_utils\\formatters.py:89\u001b[0m, in \u001b[0;36mrecursive_map\u001b[1;34m(func, data)\u001b[0m\n\u001b[0;32m     87\u001b[0m \u001b[38;5;28;01mdef\u001b[39;00m \u001b[38;5;21mrecurse\u001b[39m(item: Any) \u001b[38;5;241m-\u001b[39m\u001b[38;5;241m>\u001b[39m TReturn:\n\u001b[0;32m     88\u001b[0m     \u001b[38;5;28;01mreturn\u001b[39;00m recursive_map(func, item)\n\u001b[1;32m---> 89\u001b[0m items_mapped \u001b[38;5;241m=\u001b[39m \u001b[43mmap_collection\u001b[49m\u001b[43m(\u001b[49m\u001b[43mrecurse\u001b[49m\u001b[43m,\u001b[49m\u001b[43m \u001b[49m\u001b[43mdata\u001b[49m\u001b[43m)\u001b[49m\n\u001b[0;32m     90\u001b[0m \u001b[38;5;28;01mreturn\u001b[39;00m func(items_mapped)\n",
      "File \u001b[1;32m~\\Anaconda3\\envs\\web3\\lib\\site-packages\\web3\\_utils\\formatters.py:76\u001b[0m, in \u001b[0;36mmap_collection\u001b[1;34m(func, collection)\u001b[0m\n\u001b[0;32m     74\u001b[0m     \u001b[38;5;28;01mreturn\u001b[39;00m collection\n\u001b[0;32m     75\u001b[0m \u001b[38;5;28;01melif\u001b[39;00m \u001b[38;5;28misinstance\u001b[39m(collection, Iterable):\n\u001b[1;32m---> 76\u001b[0m     \u001b[38;5;28;01mreturn\u001b[39;00m \u001b[43mdatatype\u001b[49m\u001b[43m(\u001b[49m\u001b[38;5;28;43mmap\u001b[39;49m\u001b[43m(\u001b[49m\u001b[43mfunc\u001b[49m\u001b[43m,\u001b[49m\u001b[43m \u001b[49m\u001b[43mcollection\u001b[49m\u001b[43m)\u001b[49m\u001b[43m)\u001b[49m\n\u001b[0;32m     77\u001b[0m \u001b[38;5;28;01melse\u001b[39;00m:\n\u001b[0;32m     78\u001b[0m     \u001b[38;5;28;01mreturn\u001b[39;00m collection\n",
      "File \u001b[1;32m~\\Anaconda3\\envs\\web3\\lib\\site-packages\\web3\\_utils\\formatters.py:88\u001b[0m, in \u001b[0;36mrecursive_map.<locals>.recurse\u001b[1;34m(item)\u001b[0m\n\u001b[0;32m     87\u001b[0m \u001b[38;5;28;01mdef\u001b[39;00m \u001b[38;5;21mrecurse\u001b[39m(item: Any) \u001b[38;5;241m-\u001b[39m\u001b[38;5;241m>\u001b[39m TReturn:\n\u001b[1;32m---> 88\u001b[0m     \u001b[38;5;28;01mreturn\u001b[39;00m \u001b[43mrecursive_map\u001b[49m\u001b[43m(\u001b[49m\u001b[43mfunc\u001b[49m\u001b[43m,\u001b[49m\u001b[43m \u001b[49m\u001b[43mitem\u001b[49m\u001b[43m)\u001b[49m\n",
      "File \u001b[1;32m~\\Anaconda3\\envs\\web3\\lib\\site-packages\\web3\\_utils\\decorators.py:30\u001b[0m, in \u001b[0;36mreject_recursive_repeats.<locals>.wrapped\u001b[1;34m(*args)\u001b[0m\n\u001b[0;32m     28\u001b[0m to_wrap\u001b[38;5;241m.\u001b[39m__already_called[thread_local_args] \u001b[38;5;241m=\u001b[39m \u001b[38;5;28;01mTrue\u001b[39;00m  \u001b[38;5;66;03m# type: ignore\u001b[39;00m\n\u001b[0;32m     29\u001b[0m \u001b[38;5;28;01mtry\u001b[39;00m:\n\u001b[1;32m---> 30\u001b[0m     wrapped_val \u001b[38;5;241m=\u001b[39m \u001b[43mto_wrap\u001b[49m\u001b[43m(\u001b[49m\u001b[38;5;241;43m*\u001b[39;49m\u001b[43margs\u001b[49m\u001b[43m)\u001b[49m\n\u001b[0;32m     31\u001b[0m \u001b[38;5;28;01mfinally\u001b[39;00m:\n\u001b[0;32m     32\u001b[0m     \u001b[38;5;28;01mdel\u001b[39;00m to_wrap\u001b[38;5;241m.\u001b[39m__already_called[thread_local_args]  \u001b[38;5;66;03m# type: ignore\u001b[39;00m\n",
      "File \u001b[1;32m~\\Anaconda3\\envs\\web3\\lib\\site-packages\\web3\\_utils\\formatters.py:90\u001b[0m, in \u001b[0;36mrecursive_map\u001b[1;34m(func, data)\u001b[0m\n\u001b[0;32m     88\u001b[0m     \u001b[38;5;28;01mreturn\u001b[39;00m recursive_map(func, item)\n\u001b[0;32m     89\u001b[0m items_mapped \u001b[38;5;241m=\u001b[39m map_collection(recurse, data)\n\u001b[1;32m---> 90\u001b[0m \u001b[38;5;28;01mreturn\u001b[39;00m \u001b[43mfunc\u001b[49m\u001b[43m(\u001b[49m\u001b[43mitems_mapped\u001b[49m\u001b[43m)\u001b[49m\n",
      "File \u001b[1;32m~\\Anaconda3\\envs\\web3\\lib\\site-packages\\web3\\_utils\\abi.py:842\u001b[0m, in \u001b[0;36mdata_tree_map.<locals>.map_to_typed_data\u001b[1;34m(elements)\u001b[0m\n\u001b[0;32m    840\u001b[0m \u001b[38;5;28;01mdef\u001b[39;00m \u001b[38;5;21mmap_to_typed_data\u001b[39m(elements: Any) \u001b[38;5;241m-\u001b[39m\u001b[38;5;241m>\u001b[39m \u001b[38;5;124m\"\u001b[39m\u001b[38;5;124mABITypedData\u001b[39m\u001b[38;5;124m\"\u001b[39m:\n\u001b[0;32m    841\u001b[0m     \u001b[38;5;28;01mif\u001b[39;00m \u001b[38;5;28misinstance\u001b[39m(elements, ABITypedData) \u001b[38;5;129;01mand\u001b[39;00m elements\u001b[38;5;241m.\u001b[39mabi_type \u001b[38;5;129;01mis\u001b[39;00m \u001b[38;5;129;01mnot\u001b[39;00m \u001b[38;5;28;01mNone\u001b[39;00m:\n\u001b[1;32m--> 842\u001b[0m         \u001b[38;5;28;01mreturn\u001b[39;00m ABITypedData(\u001b[43mfunc\u001b[49m\u001b[43m(\u001b[49m\u001b[38;5;241;43m*\u001b[39;49m\u001b[43melements\u001b[49m\u001b[43m)\u001b[49m)\n\u001b[0;32m    843\u001b[0m     \u001b[38;5;28;01melse\u001b[39;00m:\n\u001b[0;32m    844\u001b[0m         \u001b[38;5;28;01mreturn\u001b[39;00m elements\n",
      "File \u001b[1;32m~\\Anaconda3\\envs\\web3\\lib\\site-packages\\web3\\_utils\\normalizers.py:78\u001b[0m, in \u001b[0;36mimplicitly_identity.<locals>.wrapper\u001b[1;34m(type_str, data)\u001b[0m\n\u001b[0;32m     76\u001b[0m \u001b[38;5;129m@functools\u001b[39m\u001b[38;5;241m.\u001b[39mwraps(to_wrap)\n\u001b[0;32m     77\u001b[0m \u001b[38;5;28;01mdef\u001b[39;00m \u001b[38;5;21mwrapper\u001b[39m(type_str: TypeStr, data: Any) \u001b[38;5;241m-\u001b[39m\u001b[38;5;241m>\u001b[39m Tuple[TypeStr, Any]:\n\u001b[1;32m---> 78\u001b[0m     modified \u001b[38;5;241m=\u001b[39m \u001b[43mto_wrap\u001b[49m\u001b[43m(\u001b[49m\u001b[43mtype_str\u001b[49m\u001b[43m,\u001b[49m\u001b[43m \u001b[49m\u001b[43mdata\u001b[49m\u001b[43m)\u001b[49m\n\u001b[0;32m     79\u001b[0m     \u001b[38;5;28;01mif\u001b[39;00m modified \u001b[38;5;129;01mis\u001b[39;00m \u001b[38;5;28;01mNone\u001b[39;00m:\n\u001b[0;32m     80\u001b[0m         \u001b[38;5;28;01mreturn\u001b[39;00m type_str, data\n",
      "File \u001b[1;32m~\\Anaconda3\\envs\\web3\\lib\\site-packages\\web3\\_utils\\normalizers.py:196\u001b[0m, in \u001b[0;36mabi_address_to_hex\u001b[1;34m(type_str, data)\u001b[0m\n\u001b[0;32m    193\u001b[0m \u001b[38;5;129m@implicitly_identity\u001b[39m\n\u001b[0;32m    194\u001b[0m \u001b[38;5;28;01mdef\u001b[39;00m \u001b[38;5;21mabi_address_to_hex\u001b[39m(type_str: TypeStr, data: Any) \u001b[38;5;241m-\u001b[39m\u001b[38;5;241m>\u001b[39m Optional[Tuple[TypeStr, ChecksumAddress]]:\n\u001b[0;32m    195\u001b[0m     \u001b[38;5;28;01mif\u001b[39;00m type_str \u001b[38;5;241m==\u001b[39m \u001b[38;5;124m'\u001b[39m\u001b[38;5;124maddress\u001b[39m\u001b[38;5;124m'\u001b[39m:\n\u001b[1;32m--> 196\u001b[0m         \u001b[43mvalidate_address\u001b[49m\u001b[43m(\u001b[49m\u001b[43mdata\u001b[49m\u001b[43m)\u001b[49m\n\u001b[0;32m    197\u001b[0m         \u001b[38;5;28;01mif\u001b[39;00m is_binary_address(data):\n\u001b[0;32m    198\u001b[0m             \u001b[38;5;28;01mreturn\u001b[39;00m type_str, to_checksum_address(data)\n",
      "File \u001b[1;32m~\\Anaconda3\\envs\\web3\\lib\\site-packages\\web3\\_utils\\validation.py:182\u001b[0m, in \u001b[0;36mvalidate_address\u001b[1;34m(value)\u001b[0m\n\u001b[0;32m    180\u001b[0m \u001b[38;5;28;01mif\u001b[39;00m \u001b[38;5;129;01mnot\u001b[39;00m is_checksum_address(value):\n\u001b[0;32m    181\u001b[0m     \u001b[38;5;28;01mif\u001b[39;00m value \u001b[38;5;241m==\u001b[39m value\u001b[38;5;241m.\u001b[39mlower():\n\u001b[1;32m--> 182\u001b[0m         \u001b[38;5;28;01mraise\u001b[39;00m InvalidAddress(\n\u001b[0;32m    183\u001b[0m             \u001b[38;5;124m\"\u001b[39m\u001b[38;5;124mWeb3.py only accepts checksum addresses. \u001b[39m\u001b[38;5;124m\"\u001b[39m\n\u001b[0;32m    184\u001b[0m             \u001b[38;5;124m\"\u001b[39m\u001b[38;5;124mThe software that gave you this non-checksum address should be considered unsafe, \u001b[39m\u001b[38;5;124m\"\u001b[39m\n\u001b[0;32m    185\u001b[0m             \u001b[38;5;124m\"\u001b[39m\u001b[38;5;124mplease file it as a bug on their platform. \u001b[39m\u001b[38;5;124m\"\u001b[39m\n\u001b[0;32m    186\u001b[0m             \u001b[38;5;124m\"\u001b[39m\u001b[38;5;124mTry using an ENS name instead. Or, if you must accept lower safety, \u001b[39m\u001b[38;5;124m\"\u001b[39m\n\u001b[0;32m    187\u001b[0m             \u001b[38;5;124m\"\u001b[39m\u001b[38;5;124muse Web3.toChecksumAddress(lower_case_address).\u001b[39m\u001b[38;5;124m\"\u001b[39m,\n\u001b[0;32m    188\u001b[0m             value,\n\u001b[0;32m    189\u001b[0m         )\n\u001b[0;32m    190\u001b[0m     \u001b[38;5;28;01melse\u001b[39;00m:\n\u001b[0;32m    191\u001b[0m         \u001b[38;5;28;01mraise\u001b[39;00m InvalidAddress(\n\u001b[0;32m    192\u001b[0m             \u001b[38;5;124m\"\u001b[39m\u001b[38;5;124mAddress has an invalid EIP-55 checksum. \u001b[39m\u001b[38;5;124m\"\u001b[39m\n\u001b[0;32m    193\u001b[0m             \u001b[38;5;124m\"\u001b[39m\u001b[38;5;124mAfter looking up the address from the original source, try again.\u001b[39m\u001b[38;5;124m\"\u001b[39m,\n\u001b[0;32m    194\u001b[0m             value,\n\u001b[0;32m    195\u001b[0m         )\n",
      "\u001b[1;31mInvalidAddress\u001b[0m: ('Web3.py only accepts checksum addresses. The software that gave you this non-checksum address should be considered unsafe, please file it as a bug on their platform. Try using an ENS name instead. Or, if you must accept lower safety, use Web3.toChecksumAddress(lower_case_address).', '0xfb8814d005c5f32874391e888da6eb2fe7a27902')"
     ]
    }
   ],
   "source": [
    "print(web3.isConnected())\n",
    "print(web3.eth.blockNumber)\n",
    "balance = web3.eth.getBalance(\"0xfb8814d005c5f32874391e888da6eb2fe7a27902\")\n",
    "print(web3.fromWei(balance, \"ether\"))"
   ]
  },
  {
   "cell_type": "code",
   "execution_count": 5,
   "metadata": {},
   "outputs": [],
   "source": [
    "abi = json.loads('[{\"constant\": true}]')\n",
    "address = \"0xd26114cd6EE289AccF82350c8d8487fedB8A0C07\""
   ]
  },
  {
   "cell_type": "code",
   "execution_count": 6,
   "metadata": {},
   "outputs": [],
   "source": [
    "contract = web3.eth.contract(address)"
   ]
  },
  {
   "cell_type": "code",
   "execution_count": 11,
   "metadata": {},
   "outputs": [
    {
     "data": {
      "text/plain": [
       "14756305"
      ]
     },
     "execution_count": 11,
     "metadata": {},
     "output_type": "execute_result"
    }
   ],
   "source": [
    "web3.eth.blockNumber"
   ]
  },
  {
   "cell_type": "code",
   "execution_count": 34,
   "metadata": {},
   "outputs": [],
   "source": [
    "import numpy as np"
   ]
  },
  {
   "cell_type": "code",
   "execution_count": 38,
   "metadata": {},
   "outputs": [],
   "source": [
    "a = np.array(1.7)"
   ]
  },
  {
   "cell_type": "code",
   "execution_count": 59,
   "metadata": {},
   "outputs": [],
   "source": [
    "a = (np.sqrt(5.90)/22.667 + np.sqrt(7.48)/17.0104)*(13/224 + 1)*np.power(66.92, 1.5)/(1 - 0.13)*0.454"
   ]
  },
  {
   "cell_type": "code",
   "execution_count": 13,
   "metadata": {},
   "outputs": [
    {
     "ename": "AttributeError",
     "evalue": "'Contract' object has no attribute 'defaultBlock'",
     "output_type": "error",
     "traceback": [
      "\u001b[1;31m---------------------------------------------------------------------------\u001b[0m",
      "\u001b[1;31mAttributeError\u001b[0m                            Traceback (most recent call last)",
      "Input \u001b[1;32mIn [13]\u001b[0m, in \u001b[0;36m<cell line: 1>\u001b[1;34m()\u001b[0m\n\u001b[1;32m----> 1\u001b[0m \u001b[43mcontract\u001b[49m\u001b[38;5;241;43m.\u001b[39;49m\u001b[43mdefaultBlock\u001b[49m\n",
      "\u001b[1;31mAttributeError\u001b[0m: 'Contract' object has no attribute 'defaultBlock'"
     ]
    }
   ],
   "source": [
    "contract.defaultBlock"
   ]
  },
  {
   "cell_type": "code",
   "execution_count": 14,
   "metadata": {},
   "outputs": [],
   "source": [
    "ganache_url = \"http://127.0.0.1:7545\""
   ]
  },
  {
   "cell_type": "code",
   "execution_count": 15,
   "metadata": {},
   "outputs": [],
   "source": [
    "web3 = Web3(Web3.HTTPProvider(ganache_url))"
   ]
  },
  {
   "cell_type": "code",
   "execution_count": 17,
   "metadata": {},
   "outputs": [
    {
     "data": {
      "text/plain": [
       "False"
      ]
     },
     "execution_count": 17,
     "metadata": {},
     "output_type": "execute_result"
    }
   ],
   "source": [
    "web3.isConnected()"
   ]
  },
  {
   "cell_type": "code",
   "execution_count": 1,
   "metadata": {},
   "outputs": [
    {
     "data": {
      "text/plain": [
       "86400"
      ]
     },
     "execution_count": 1,
     "metadata": {},
     "output_type": "execute_result"
    }
   ],
   "source": [
    "60*60*24"
   ]
  },
  {
   "cell_type": "code",
   "execution_count": 4,
   "metadata": {},
   "outputs": [
    {
     "data": {
      "text/plain": [
       "801.875"
      ]
     },
     "execution_count": 4,
     "metadata": {},
     "output_type": "execute_result"
    }
   ],
   "source": [
    "1841.66/2 - 188.91/2 - 49/2"
   ]
  },
  {
   "cell_type": "code",
   "execution_count": null,
   "metadata": {},
   "outputs": [],
   "source": []
  }
 ],
 "metadata": {
  "kernelspec": {
   "display_name": "Python 3",
   "language": "python",
   "name": "python3"
  },
  "language_info": {
   "codemirror_mode": {
    "name": "ipython",
    "version": 3
   },
   "file_extension": ".py",
   "mimetype": "text/x-python",
   "name": "python",
   "nbconvert_exporter": "python",
   "pygments_lexer": "ipython3",
   "version": "3.8.5"
  }
 },
 "nbformat": 4,
 "nbformat_minor": 5
}
